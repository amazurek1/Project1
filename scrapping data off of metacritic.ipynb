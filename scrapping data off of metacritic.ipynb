{
 "cells": [
  {
   "cell_type": "code",
   "execution_count": 54,
   "metadata": {},
   "outputs": [],
   "source": [
    "import mysql.connector\n",
    "import stuff"
   ]
  },
  {
   "cell_type": "code",
   "execution_count": 55,
   "metadata": {},
   "outputs": [],
   "source": [
    "cnx = mysql.connector.connect(\n",
    "    host = stuff.host,\n",
    "    user = stuff.user,\n",
    "    passwd = stuff.password)"
   ]
  },
  {
   "cell_type": "code",
   "execution_count": 56,
   "metadata": {},
   "outputs": [],
   "source": [
    "cursor = cnx.cursor()"
   ]
  },
  {
   "cell_type": "code",
   "execution_count": 57,
   "metadata": {},
   "outputs": [],
   "source": [
    "cnx.database = 'movie_project'"
   ]
  },
  {
   "cell_type": "code",
   "execution_count": 58,
   "metadata": {},
   "outputs": [],
   "source": [
    "import requests\n",
    "from bs4 import BeautifulSoup as BS\n",
    "import pandas as pd"
   ]
  },
  {
   "cell_type": "code",
   "execution_count": 59,
   "metadata": {},
   "outputs": [],
   "source": [
    "#make sure to put quotes around your url\n",
    "def request_func(url):\n",
    "    user_agent = {'User-agent': 'Mozilla/5.0'}\n",
    "    page = requests.get(url, headers = user_agent)\n",
    "    soup = BS(page.content, 'html.parser')\n",
    "    return soup"
   ]
  },
  {
   "cell_type": "code",
   "execution_count": 60,
   "metadata": {},
   "outputs": [],
   "source": [
    "#Extracting the critic scores\n",
    "def critic_func (soup):\n",
    "    critic_scores=soup.find_all('div', class_='metascore_w large movie positive')\n",
    "    i=0\n",
    "    critic_scores_score=[]\n",
    "    critic_scores_duplicate=[]\n",
    "    for thing in critic_scores:\n",
    "        if i%2==0:\n",
    "            critic_scores_score.append(critic_scores[i].string)\n",
    "        elif i%2!=0:\n",
    "            critic_scores_duplicate.append(critic_scores[i].string)\n",
    "        i+=1\n",
    "        \n",
    "    critic_scores_metacritic=[]\n",
    "    for item in critic_scores_score:\n",
    "        try:\n",
    "            maybe=float(item)\n",
    "            critic_scores_metacritic.append(maybe)\n",
    "        except:\n",
    "            critic_scores_metacritic.append(None)\n",
    "\n",
    "    return critic_scores_metacritic"
   ]
  },
  {
   "cell_type": "code",
   "execution_count": 61,
   "metadata": {},
   "outputs": [],
   "source": [
    "#Extracting the critic scores\n",
    "#had to make another funciton for when the color of the box in the critic scores turn yellow\n",
    "def critic_yellow_func (soup):\n",
    "    critic_scores=soup.find_all('div', class_='metascore_w large movie mixed')\n",
    "    i=0\n",
    "    critic_scores_score=[]\n",
    "    critic_scores_duplicate=[]\n",
    "    for thing in critic_scores:\n",
    "        if i%2==0:\n",
    "            critic_scores_score.append(critic_scores[i].string)\n",
    "        elif i%2!=0:\n",
    "            critic_scores_duplicate.append(critic_scores[i].string)\n",
    "        i+=1\n",
    "        \n",
    "    critic_scores_metacritic_yellow=[]\n",
    "    for item in critic_scores_score:\n",
    "        try:\n",
    "            maybe=float(item)\n",
    "            critic_scores_metacritic_yellow.append(maybe)\n",
    "        except:\n",
    "            critic_scores_metacritic_yellow.append(None)\n",
    "\n",
    "    return critic_scores_metacritic_yellow"
   ]
  },
  {
   "cell_type": "code",
   "execution_count": 62,
   "metadata": {},
   "outputs": [],
   "source": [
    "#Extracting the critic scores\n",
    "#had to make another funciton for when the color of the box in the critic scores turn red\n",
    "def critic_red_func (soup):\n",
    "    critic_scores=soup.find_all('div', class_='metascore_w large movie negative')\n",
    "    i=0\n",
    "    critic_scores_score=[]\n",
    "    critic_scores_duplicate=[]\n",
    "    for thing in critic_scores:\n",
    "        if i%2==0:\n",
    "            critic_scores_score.append(critic_scores[i].string)\n",
    "        elif i%2!=0:\n",
    "            critic_scores_duplicate.append(critic_scores[i].string)\n",
    "        i+=1\n",
    "        \n",
    "    critic_scores_metacritic_red=[]\n",
    "    for item in critic_scores_score:\n",
    "        try:\n",
    "            maybe=float(item)\n",
    "            critic_scores_metacritic_red.append(maybe)\n",
    "        except:\n",
    "            critic_scores_metacritic_red.append(None)\n",
    "\n",
    "    return critic_scores_metacritic_red"
   ]
  },
  {
   "cell_type": "code",
   "execution_count": 63,
   "metadata": {},
   "outputs": [],
   "source": [
    "#Extract user scores\n",
    "def user_func (soup):\n",
    "    user_score = soup.find_all('a', class_= \"metascore_anchor\")\n",
    "    user_score_scores=[]\n",
    "    for thing in user_score:\n",
    "        user_score_scores.append(thing.select('div')[0].string)\n",
    "    usr_score=user_score_scores[2:301:3]\n",
    "    usr_score2=[]\n",
    "    for item in usr_score:\n",
    "        try:\n",
    "            maybe=float(item)\n",
    "            usr_score2.append(maybe)\n",
    "        except:\n",
    "            usr_score2.append(None)\n",
    "    return usr_score2\n"
   ]
  },
  {
   "cell_type": "code",
   "execution_count": 64,
   "metadata": {},
   "outputs": [],
   "source": [
    "#Extract movie titles\n",
    "def title_func (soup):\n",
    "    title = soup.find_all('a', class_= \"title\")\n",
    "    titles=[]\n",
    "    for thing in title:\n",
    "        titles.append(thing.select('h3')[0].string)\n",
    "    return titles"
   ]
  },
  {
   "cell_type": "code",
   "execution_count": 65,
   "metadata": {},
   "outputs": [],
   "source": [
    "#making tuple for all data to insert into sql\n",
    "def create_tuple_func (critic_scores_metacritic,usr_score2,titles):\n",
    "    i=0\n",
    "    All_data_metacritic=[]\n",
    "    for thing in range(len(titles)):\n",
    "        new_tuple = (titles[i],usr_score2[i],critic_scores_metacritic[i])\n",
    "        All_data_metacritic.append(new_tuple)\n",
    "        i+=1\n",
    "    return All_data_metacritic"
   ]
  },
  {
   "cell_type": "code",
   "execution_count": null,
   "metadata": {},
   "outputs": [],
   "source": [
    "#inserts data into sql table\n",
    "def insert_func (cnx, cursor, All_data_metacritic):\n",
    "    insert_stm = \"\"\"INSERT INTO mojo_data (title, days_in_theater, opening_revenue, gross_revenue, days_in_theatre_with_none) \n",
    "    VALUES (%s, %s, %s, %s)\"\"\"\n",
    "    cursor.executemany(insert_stm, All_data_mojo)\n",
    "    cnx.commit()"
   ]
  },
  {
   "cell_type": "code",
   "execution_count": 66,
   "metadata": {},
   "outputs": [],
   "source": [
    "def process(url):\n",
    "    soup=request_func(url)\n",
    "    critic_scores_metacritic=critic_func(soup)\n",
    "    critic_scores_metacritic_yellow=critic_yellow_func(soup)\n",
    "    critic_scores_metacritic_red=critic_red_func(soup)\n",
    "    critic_scores_metacritic=critic_scores_metacritic+critic_scores_metacritic_yellow+critic_scores_metacritic_red\n",
    "    usr_score2=user_func(soup)\n",
    "    titles=title_func(soup)\n",
    "    All_data_metacritic = create_tuple_func(critic_scores_metacritic,usr_score2,titles)\n",
    "    insert_func(cnx, cursor, All_data_metacritic)"
   ]
  }
 ],
 "metadata": {
  "kernelspec": {
   "display_name": "Python 3",
   "language": "python",
   "name": "python3"
  },
  "language_info": {
   "codemirror_mode": {
    "name": "ipython",
    "version": 3
   },
   "file_extension": ".py",
   "mimetype": "text/x-python",
   "name": "python",
   "nbconvert_exporter": "python",
   "pygments_lexer": "ipython3",
   "version": "3.7.1"
  }
 },
 "nbformat": 4,
 "nbformat_minor": 2
}
