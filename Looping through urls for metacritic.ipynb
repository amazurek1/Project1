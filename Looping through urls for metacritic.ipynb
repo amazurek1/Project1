{
 "cells": [
  {
   "cell_type": "code",
   "execution_count": 54,
   "metadata": {},
   "outputs": [],
   "source": [
    "import mysql.connector\n",
    "import stuff"
   ]
  },
  {
   "cell_type": "code",
   "execution_count": 55,
   "metadata": {},
   "outputs": [],
   "source": [
    "cnx = mysql.connector.connect(\n",
    "    host = stuff.host,\n",
    "    user = stuff.user,\n",
    "    passwd = stuff.password)"
   ]
  },
  {
   "cell_type": "code",
   "execution_count": 56,
   "metadata": {},
   "outputs": [],
   "source": [
    "cursor = cnx.cursor()"
   ]
  },
  {
   "cell_type": "code",
   "execution_count": 57,
   "metadata": {},
   "outputs": [],
   "source": [
    "cnx.database = 'movie_project'"
   ]
  },
  {
   "cell_type": "code",
   "execution_count": 58,
   "metadata": {},
   "outputs": [],
   "source": [
    "import requests\n",
    "from bs4 import BeautifulSoup as BS\n",
    "import pandas as pd"
   ]
  },
  {
   "cell_type": "code",
   "execution_count": 59,
   "metadata": {},
   "outputs": [],
   "source": [
    "#make sure to put quotes around your url\n",
    "def something(url):\n",
    "    user_agent = {'User-agent': 'Mozilla/5.0'}\n",
    "    page = requests.get(url, headers = user_agent)\n",
    "    soup = BS(page.content, 'html.parser')\n",
    "    return soup"
   ]
  },
  {
   "cell_type": "code",
   "execution_count": 60,
   "metadata": {},
   "outputs": [],
   "source": [
    "#critic score stuff\n",
    "def critic_func (soup):\n",
    "    critic_scores=soup.find_all('div', class_='metascore_w large movie positive')\n",
    "    i=0\n",
    "    critic_scores_score=[]\n",
    "    critic_scores_duplicate=[]\n",
    "    for thing in critic_scores:\n",
    "        if i%2==0:\n",
    "            critic_scores_score.append(critic_scores[i].string)\n",
    "        elif i%2!=0:\n",
    "            critic_scores_duplicate.append(critic_scores[i].string)\n",
    "        i+=1\n",
    "        \n",
    "    critic_scores_metacritic=[]\n",
    "    for item in critic_scores_score:\n",
    "        try:\n",
    "            maybe=float(item)\n",
    "            critic_scores_metacritic.append(maybe)\n",
    "        except:\n",
    "            critic_scores_metacritic.append(None)\n",
    "\n",
    "    return critic_scores_metacritic"
   ]
  },
  {
   "cell_type": "code",
   "execution_count": 61,
   "metadata": {},
   "outputs": [],
   "source": [
    "def critic_yellow_func (soup):\n",
    "    critic_scores=soup.find_all('div', class_='metascore_w large movie mixed')\n",
    "    i=0\n",
    "    critic_scores_score=[]\n",
    "    critic_scores_duplicate=[]\n",
    "    for thing in critic_scores:\n",
    "        if i%2==0:\n",
    "            critic_scores_score.append(critic_scores[i].string)\n",
    "        elif i%2!=0:\n",
    "            critic_scores_duplicate.append(critic_scores[i].string)\n",
    "        i+=1\n",
    "        \n",
    "    critic_scores_metacritic_yellow=[]\n",
    "    for item in critic_scores_score:\n",
    "        try:\n",
    "            maybe=float(item)\n",
    "            critic_scores_metacritic_yellow.append(maybe)\n",
    "        except:\n",
    "            critic_scores_metacritic_yellow.append(None)\n",
    "\n",
    "    return critic_scores_metacritic_yellow"
   ]
  },
  {
   "cell_type": "code",
   "execution_count": 62,
   "metadata": {},
   "outputs": [],
   "source": [
    "def critic_red_func (soup):\n",
    "    critic_scores=soup.find_all('div', class_='metascore_w large movie negative')\n",
    "    i=0\n",
    "    critic_scores_score=[]\n",
    "    critic_scores_duplicate=[]\n",
    "    for thing in critic_scores:\n",
    "        if i%2==0:\n",
    "            critic_scores_score.append(critic_scores[i].string)\n",
    "        elif i%2!=0:\n",
    "            critic_scores_duplicate.append(critic_scores[i].string)\n",
    "        i+=1\n",
    "        \n",
    "    critic_scores_metacritic_red=[]\n",
    "    for item in critic_scores_score:\n",
    "        try:\n",
    "            maybe=float(item)\n",
    "            critic_scores_metacritic_red.append(maybe)\n",
    "        except:\n",
    "            critic_scores_metacritic_red.append(None)\n",
    "\n",
    "    return critic_scores_metacritic_red"
   ]
  },
  {
   "cell_type": "code",
   "execution_count": 63,
   "metadata": {},
   "outputs": [],
   "source": [
    "#user score stuff\n",
    "def user_func (soup):\n",
    "    user_score = soup.find_all('a', class_= \"metascore_anchor\")\n",
    "    user_score_scores=[]\n",
    "    for thing in user_score:\n",
    "        user_score_scores.append(thing.select('div')[0].string)\n",
    "    usr_score=user_score_scores[2:301:3]\n",
    "    usr_score2=[]\n",
    "    for item in usr_score:\n",
    "        try:\n",
    "            maybe=float(item)\n",
    "            usr_score2.append(maybe)\n",
    "        except:\n",
    "            usr_score2.append(None)\n",
    "    return usr_score2\n"
   ]
  },
  {
   "cell_type": "code",
   "execution_count": 64,
   "metadata": {},
   "outputs": [],
   "source": [
    "#titles\n",
    "def title_func (soup):\n",
    "    title = soup.find_all('a', class_= \"title\")\n",
    "    titles=[]\n",
    "    for thing in title:\n",
    "        titles.append(thing.select('h3')[0].string)\n",
    "    return titles"
   ]
  },
  {
   "cell_type": "code",
   "execution_count": 65,
   "metadata": {},
   "outputs": [],
   "source": [
    "#making tuple for all data\n",
    "def create_tuple_func (critic_scores_metacritic,usr_score2,titles):\n",
    "    i=0\n",
    "    All_data_metacritic=[]\n",
    "    for thing in range(len(titles)):\n",
    "        new_tuple = (titles[i],usr_score2[i],critic_scores_metacritic[i])\n",
    "        All_data_metacritic.append(new_tuple)\n",
    "        i+=1\n",
    "    return All_data_metacritic"
   ]
  },
  {
   "cell_type": "code",
   "execution_count": null,
   "metadata": {},
   "outputs": [],
   "source": []
  },
  {
   "cell_type": "code",
   "execution_count": null,
   "metadata": {},
   "outputs": [],
   "source": []
  },
  {
   "cell_type": "code",
   "execution_count": null,
   "metadata": {},
   "outputs": [],
   "source": []
  },
  {
   "cell_type": "code",
   "execution_count": 66,
   "metadata": {},
   "outputs": [],
   "source": [
    "def process(url):\n",
    "    soup=something(url)\n",
    "    critic_scores_metacritic=critic_func(soup)\n",
    "    critic_scores_metacritic_yellow=critic_yellow_func(soup)\n",
    "    critic_scores_metacritic_red=critic_red_func(soup)\n",
    "    critic_scores_metacritic=critic_scores_metacritic+critic_scores_metacritic_yellow+critic_scores_metacritic_red\n",
    "    usr_score2=user_func(soup)\n",
    "    titles=title_func(soup)\n",
    "    All_data_metacritic = create_tuple_func(critic_scores_metacritic,usr_score2,titles)\n",
    "    return All_data_metacritic"
   ]
  },
  {
   "cell_type": "code",
   "execution_count": null,
   "metadata": {},
   "outputs": [],
   "source": []
  },
  {
   "cell_type": "code",
   "execution_count": 67,
   "metadata": {},
   "outputs": [],
   "source": [
    "page_2=process(\"https://www.metacritic.com/browse/movies/score/metascore/year/filtered?year_selected=2018&sort=desc&page=1\")\n"
   ]
  },
  {
   "cell_type": "code",
   "execution_count": 68,
   "metadata": {
    "collapsed": true
   },
   "outputs": [
    {
     "data": {
      "text/plain": [
       "[('Have a Nice Day', 6.3, 77.0),\n",
       " (\"They'll Love Me When I'm Dead\", None, 77.0),\n",
       " ('On Body and Soul', 7.7, 77.0),\n",
       " ('Unlovable', None, 77.0),\n",
       " ('Monrovia, Indiana', None, 77.0),\n",
       " (\"People's Republic of Desire\", None, 77.0),\n",
       " (\"Madeline's Madeline\", 6.4, 77.0),\n",
       " ('Marlina the Murderer in Four Acts', 8.0, 77.0),\n",
       " ('The Wife', 7.3, 77.0),\n",
       " ('Leaning Into the Wind', 6.8, 76.0),\n",
       " ('A Prayer Before Dawn', 7.0, 76.0),\n",
       " ('24 Frames', 9.3, 76.0),\n",
       " ('Outside In', 7.8, 76.0),\n",
       " ('The Price of Everything', None, 76.0),\n",
       " ('Calibre', 6.5, 76.0),\n",
       " ('Ghostbox Cowboy', None, 76.0),\n",
       " ('Tito and the Birds', None, 76.0),\n",
       " (\"At Eternity's Gate\", 7.0, 76.0),\n",
       " ('Garry Winogrand: All Things are Photographable', None, 76.0),\n",
       " ('Under The Wire', 8.3, 75.0),\n",
       " ('Border', 6.4, 75.0),\n",
       " ('Bodied', 7.9, 75.0),\n",
       " ('Blaze', 5.6, 75.0),\n",
       " ('This Is Congo', None, 75.0),\n",
       " ('Capernaum', 8.0, 75.0),\n",
       " ('The Kindergarten Teacher', 7.6, 75.0),\n",
       " ('Stan & Ollie', 7.5, 75.0),\n",
       " ('Under the Tree', 6.0, 75.0),\n",
       " ('Jinn', 4.0, 75.0),\n",
       " ('Tully', 7.4, 75.0),\n",
       " ('Nico, 1988', 4.6, 75.0),\n",
       " ('The Escape', 8.0, 75.0),\n",
       " ('A Private War', 7.2, 75.0),\n",
       " ('Infinite Football', None, 75.0),\n",
       " ('Whitney', 7.3, 75.0),\n",
       " ('Thoroughbreds', 7.2, 75.0),\n",
       " (\"Mary and The Witch's Flower\", 7.0, 75.0),\n",
       " ('Grace Jones: Bloodlight and Bami', 7.3, 75.0),\n",
       " ('In the Last Days of the City', None, 75.0),\n",
       " ('I Kill Giants', 6.8, 74.0),\n",
       " ('A Crooked Somebody', None, 74.0),\n",
       " ('The Cakemaker', 7.6, 74.0),\n",
       " ('The Bleeding Edge', None, 74.0),\n",
       " ('Roxanne Roxanne', 6.2, 74.0),\n",
       " ('Colette', 7.1, 74.0),\n",
       " ('The Workshop', 6.3, 74.0),\n",
       " ('Disobedience', 7.4, 74.0),\n",
       " ('Pin Cushion', None, 74.0),\n",
       " ('Love, Gilda', 7.4, 74.0),\n",
       " ('Robin Williams: Come Inside My Mind', 7.0, 74.0),\n",
       " ('After Auschwitz', None, 74.0),\n",
       " ('Crazy Rich Asians', 6.9, 74.0),\n",
       " ('Beast', 7.1, 74.0),\n",
       " ('Tehran Taboo', 6.8, 74.0),\n",
       " ('The Party', 6.2, 73.0),\n",
       " ('Keep the Change', 7.8, 73.0),\n",
       " ('Filmworker', 8.2, 73.0),\n",
       " ('Werewolf', None, 73.0),\n",
       " ('Sollers Point', None, 73.0),\n",
       " ('The World Is Yours', 5.7, 73.0),\n",
       " ('Five Fingers For Marseilles', 8.0, 73.0),\n",
       " ('Milford Graves Full Mantis', None, 73.0),\n",
       " ('Watergate', None, 73.0),\n",
       " (\"Journey's End\", 6.2, 73.0),\n",
       " ('Good Manners', 7.3, 73.0),\n",
       " ('Skate Kitchen', 6.8, 72.0),\n",
       " ('The Insult', 8.3, 72.0),\n",
       " ('Where Is Kyra?', 7.0, 72.0),\n",
       " ('Love, Simon', 8.1, 72.0),\n",
       " ('Hal', None, 72.0),\n",
       " ('Big Fish & Begonia', 7.1, 72.0),\n",
       " ('Heavy Trip', 8.4, 72.0),\n",
       " ('Dark Money', 8.4, 72.0),\n",
       " ('Saturday Church', None, 72.0),\n",
       " ('Boom for Real: The Late Teenage Years of Jean-Michel Basquiat', None, 72.0),\n",
       " ('The Day After', None, 72.0),\n",
       " ('In Search of Greatness', None, 72.0),\n",
       " ('Maquia: When the Promised Flower Blooms', 8.7, 72.0),\n",
       " ('In the Intense Now', None, 72.0),\n",
       " ('Tyrel', 2.3, 71.0),\n",
       " ('Maria by Callas', 6.3, 71.0),\n",
       " ('Searching', 7.8, 71.0),\n",
       " ('Ralph Breaks the Internet', 6.6, 71.0),\n",
       " ('1985', 7.0, 71.0),\n",
       " ('Cielo', None, 71.0),\n",
       " ('Divide and Conquer: The Story of Roger Ailes', 7.4, 71.0),\n",
       " ('The Land of Steady Habits', 6.1, 71.0),\n",
       " ('Golden Exits', 7.3, 71.0),\n",
       " ('Gemini', 6.1, 71.0),\n",
       " ('The Cage Fighter', None, 71.0),\n",
       " ('Searching for Ingmar Bergman', None, 71.0),\n",
       " ('Becoming Astrid', 7.0, 71.0),\n",
       " ('No Date, No Signature', 6.0, 71.0),\n",
       " ('RBG', 6.7, 71.0),\n",
       " ('Euthanizer', 4.8, 71.0),\n",
       " ('Kusama - Infinity', None, 71.0),\n",
       " ('Makala', None, 71.0),\n",
       " ('Breath', 8.6, 71.0),\n",
       " ('Cam', 6.1, 71.0),\n",
       " ('The Great Buster: A Celebration', None, 71.0)]"
      ]
     },
     "execution_count": 68,
     "metadata": {},
     "output_type": "execute_result"
    }
   ],
   "source": [
    "page_2"
   ]
  },
  {
   "cell_type": "code",
   "execution_count": 69,
   "metadata": {},
   "outputs": [],
   "source": [
    "insert_stm = \"\"\"INSERT INTO metacritic (title, critic_score, user_score) \n",
    "VALUES (%s, %s, %s)\"\"\"\n",
    "cursor.executemany(insert_stm, page_2)\n",
    "cnx.commit()"
   ]
  },
  {
   "cell_type": "code",
   "execution_count": 70,
   "metadata": {},
   "outputs": [],
   "source": [
    "page_3=process(\"https://www.metacritic.com/browse/movies/score/metascore/year/filtered?year_selected=2018&sort=desc&page=2\")\n"
   ]
  },
  {
   "cell_type": "code",
   "execution_count": 71,
   "metadata": {},
   "outputs": [],
   "source": [
    "insert_stm = \"\"\"INSERT INTO metacritic (title, critic_score, user_score) \n",
    "VALUES (%s, %s, %s)\"\"\"\n",
    "cursor.executemany(insert_stm, page_3)\n",
    "cnx.commit()"
   ]
  },
  {
   "cell_type": "code",
   "execution_count": 73,
   "metadata": {},
   "outputs": [],
   "source": [
    "page_4=process(\"https://www.metacritic.com/browse/movies/score/metascore/year/filtered?year_selected=2018&sort=desc&page=3\")\n"
   ]
  },
  {
   "cell_type": "code",
   "execution_count": 74,
   "metadata": {},
   "outputs": [],
   "source": [
    "insert_stm = \"\"\"INSERT INTO metacritic (title, critic_score, user_score) \n",
    "VALUES (%s, %s, %s)\"\"\"\n",
    "cursor.executemany(insert_stm, page_4)\n",
    "cnx.commit()"
   ]
  },
  {
   "cell_type": "code",
   "execution_count": 75,
   "metadata": {},
   "outputs": [],
   "source": [
    "page_5=process(\"https://www.metacritic.com/browse/movies/score/metascore/year/filtered?year_selected=2018&sort=desc&page=4\")\n"
   ]
  },
  {
   "cell_type": "code",
   "execution_count": 76,
   "metadata": {},
   "outputs": [],
   "source": [
    "insert_stm = \"\"\"INSERT INTO metacritic (title, critic_score, user_score) \n",
    "VALUES (%s, %s, %s)\"\"\"\n",
    "cursor.executemany(insert_stm, page_5)\n",
    "cnx.commit()"
   ]
  },
  {
   "cell_type": "code",
   "execution_count": 77,
   "metadata": {},
   "outputs": [],
   "source": [
    "page_6=process(\"https://www.metacritic.com/browse/movies/score/metascore/year/filtered?year_selected=2018&sort=desc&page=5\")\n"
   ]
  },
  {
   "cell_type": "code",
   "execution_count": 78,
   "metadata": {},
   "outputs": [],
   "source": [
    "insert_stm = \"\"\"INSERT INTO metacritic (title, critic_score, user_score) \n",
    "VALUES (%s, %s, %s)\"\"\"\n",
    "cursor.executemany(insert_stm, page_6)\n",
    "cnx.commit()"
   ]
  },
  {
   "cell_type": "code",
   "execution_count": 79,
   "metadata": {},
   "outputs": [],
   "source": [
    "page_7=process(\"https://www.metacritic.com/browse/movies/score/metascore/year/filtered?year_selected=2018&sort=desc&page=6\")\n"
   ]
  },
  {
   "cell_type": "code",
   "execution_count": 80,
   "metadata": {},
   "outputs": [],
   "source": [
    "insert_stm = \"\"\"INSERT INTO metacritic (title, critic_score, user_score) \n",
    "VALUES (%s, %s, %s)\"\"\"\n",
    "cursor.executemany(insert_stm, page_7)\n",
    "cnx.commit()"
   ]
  },
  {
   "cell_type": "code",
   "execution_count": null,
   "metadata": {},
   "outputs": [],
   "source": []
  }
 ],
 "metadata": {
  "kernelspec": {
   "display_name": "Python 3",
   "language": "python",
   "name": "python3"
  },
  "language_info": {
   "codemirror_mode": {
    "name": "ipython",
    "version": 3
   },
   "file_extension": ".py",
   "mimetype": "text/x-python",
   "name": "python",
   "nbconvert_exporter": "python",
   "pygments_lexer": "ipython3",
   "version": "3.7.1"
  }
 },
 "nbformat": 4,
 "nbformat_minor": 2
}
