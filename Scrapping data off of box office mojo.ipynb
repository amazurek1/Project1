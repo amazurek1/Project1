{
 "cells": [
  {
   "cell_type": "code",
   "execution_count": null,
   "metadata": {},
   "outputs": [],
   "source": [
    "import requests\n",
    "from bs4 import BeautifulSoup as BS"
   ]
  },
  {
   "cell_type": "code",
   "execution_count": null,
   "metadata": {},
   "outputs": [],
   "source": [
    "import requests\n",
    "import mysql.connector\n",
    "from datetime import datetime\n",
    "from dateutil.parser import parse"
   ]
  },
  {
   "cell_type": "code",
   "execution_count": null,
   "metadata": {},
   "outputs": [],
   "source": [
    "import stuff\n",
    "cnx = mysql.connector.connect(\n",
    "    host = stuff.host,\n",
    "    user = stuff.user,\n",
    "    passwd = stuff.password)"
   ]
  },
  {
   "cell_type": "code",
   "execution_count": null,
   "metadata": {},
   "outputs": [],
   "source": [
    "cursor = cnx.cursor()"
   ]
  },
  {
   "cell_type": "code",
   "execution_count": null,
   "metadata": {},
   "outputs": [],
   "source": [
    "#connect to database in mysql. I called the database for this project 'movie_project'\n",
    "cnx.database = 'movie_project'"
   ]
  },
  {
   "cell_type": "code",
   "execution_count": 213,
   "metadata": {},
   "outputs": [],
   "source": [
    "#url request. Must insert url with quotations \"url\"\n",
    "def request_func (url):\n",
    "    page = requests.get(url)\n",
    "    soup = BS(page.content, 'html.parser')\n",
    "    return soup"
   ]
  },
  {
   "cell_type": "code",
   "execution_count": 214,
   "metadata": {},
   "outputs": [],
   "source": [
    "#getting movie titles\n",
    "def movie_titles (soup):\n",
    "    names=soup.find_all('td', class_='a-text-left mojo-field-type-release mojo-cell-wide')\n",
    "    All_names = []\n",
    "    for thing in names:\n",
    "        try:\n",
    "            All_names.append(thing.string)\n",
    "        except:\n",
    "            All_names.append('NAN')\n",
    "            continue\n",
    "    return All_names"
   ]
  },
  {
   "cell_type": "code",
   "execution_count": 215,
   "metadata": {},
   "outputs": [],
   "source": [
    "#extracting total gross $ for each movie\n",
    "def total_gross (soup):\n",
    "    gross_opening=soup.find_all('td', class_='a-text-right mojo-field-type-money')\n",
    "    i=0\n",
    "    gross=[]\n",
    "    opening=[]\n",
    "    for thing in gross_opening:\n",
    "        if i%2==0:\n",
    "            gross.append(gross_opening[i].string)\n",
    "        elif i%2!=0:\n",
    "            opening.append(gross_opening[i].string)\n",
    "        i+=1\n",
    "    gross_numbers=[]\n",
    "    for item in gross:\n",
    "        maybe = item.strip('$')\n",
    "        maybe2=maybe.strip(',')\n",
    "        maybe3 = maybe2.replace(',','')\n",
    "        maybe4=int(maybe3)\n",
    "        gross_numbers.append(maybe4)\n",
    "    #changes dashes to Nans\n",
    "    gross_numbers_with_none=[]\n",
    "    for item in gross_numbers:\n",
    "        if type(item)==int:\n",
    "            gross_numbers_with_none.append(item)\n",
    "        else:\n",
    "            gross_numbers_with_none.append('NAN')\n",
    "            continue\n",
    "    return gross_numbers_with_none"
   ]
  },
  {
   "cell_type": "code",
   "execution_count": 216,
   "metadata": {},
   "outputs": [],
   "source": [
    "#opening weekend gross $\n",
    "def opening_weekend_gross (soup):\n",
    "    gross_opening=soup.find_all('td', class_='a-text-right mojo-field-type-money')\n",
    "    i=0\n",
    "    gross=[]\n",
    "    opening=[]\n",
    "    for thing in gross_opening:\n",
    "        if i%2==0:\n",
    "            gross.append(gross_opening[i].string)\n",
    "        elif i%2!=0:\n",
    "            opening.append(gross_opening[i].string)\n",
    "        i+=1\n",
    "    opening_numbers=[]\n",
    "    for item in opening:\n",
    "        try:\n",
    "            maybe = item.strip('$')\n",
    "            maybe2=maybe.strip(',')\n",
    "            maybe3 = maybe2.replace(',','')\n",
    "            maybe4=int(maybe3)\n",
    "            opening_numbers.append(maybe4)\n",
    "        except:\n",
    "            opening_numbers.append(item)\n",
    "            \n",
    "    opening_numbers_with_none=[]\n",
    "    for item in opening_numbers:\n",
    "        if type(item)==int:\n",
    "            opening_numbers_with_none.append(item)\n",
    "        else:\n",
    "            opening_numbers_with_none.append('NAN')\n",
    "            continue\n",
    "    return opening_numbers_with_none"
   ]
  },
  {
   "cell_type": "code",
   "execution_count": 217,
   "metadata": {},
   "outputs": [],
   "source": [
    "#obtaining release dates\n",
    "def release_dates (soup):\n",
    "    opening_date=soup.find_all('td', class_='a-text-left mojo-field-type-date mojo-sort-column a-nowrap')\n",
    "    print(opening_date[0])\n",
    "    All_opening_dates = []\n",
    "    for thing in opening_date:\n",
    "        try:\n",
    "            All_opening_dates.append(thing.string)\n",
    "        except:\n",
    "            All_opening_dates.append('NAN')\n",
    "            continue\n",
    "            \n",
    "    release_date_clean=[]\n",
    "    for thing in All_opening_dates:\n",
    "        y=thing.replace('Jan ','2018-01-')\n",
    "        y2=y.replace('Feb ','2018-02-')\n",
    "        y3=y2.replace('Mar ','2018-03-')\n",
    "        y4=y3.replace('Apr ','2018-04-')\n",
    "        y5=y4.replace('May ','2018-05-')\n",
    "        y6=y5.replace('Jun ','2018-06-')\n",
    "        y7=y6.replace('Jul ','2018-07-')\n",
    "        y8=y7.replace('Aug ','2018-08-')\n",
    "        y9=y8.replace('Sep ','2018-09-')\n",
    "        y10=y9.replace('Oct ','2018-10-')\n",
    "        y11=y10.replace('Nov ','2018-11-')\n",
    "        y12=y11.replace('Dec ','2018-12-')\n",
    "        release_date_clean.append(y12)\n",
    "        \n",
    "    release_date_date_time=[]\n",
    "    for thing in release_date_clean:\n",
    "            y2=datetime.strptime(thing,'%Y-%m-%d')\n",
    "            release_date_date_time.append(y2)\n",
    "            \n",
    "    return release_date_date_time"
   ]
  },
  {
   "cell_type": "code",
   "execution_count": 218,
   "metadata": {},
   "outputs": [],
   "source": [
    "#obtaining closing dates of movies in movie theater\n",
    "def closing_dates (soup):\n",
    "    closing_date=soup.find_all('td', class_='a-text-left mojo-field-type-date a-nowrap')\n",
    "    All_closing_dates = []\n",
    "    for thing in closing_date:\n",
    "        try:\n",
    "            All_closing_dates.append(thing.string)\n",
    "        except:\n",
    "            All_closing_dates.append('NAN')\n",
    "            continue\n",
    "    closing_date_clean=[]\n",
    "    for thing in All_closing_dates:\n",
    "        y=thing.replace('Jan ','2018-01-')\n",
    "        y2=y.replace('Feb ','2018-02-')\n",
    "        y3=y2.replace('Mar ','2018-03-')\n",
    "        y4=y3.replace('Apr ','2018-04-')\n",
    "        y5=y4.replace('May ','2018-05-')\n",
    "        y6=y5.replace('Jun ','2018-06-')\n",
    "        y7=y6.replace('Jul ','2018-07-')\n",
    "        y8=y7.replace('Aug ','2018-08-')\n",
    "        y9=y8.replace('Sep ','2018-09-')\n",
    "        y10=y9.replace('Oct ','2018-10-')\n",
    "        y11=y10.replace('Nov ','2018-11-')\n",
    "        y12=y11.replace('Dec ','2018-12-')\n",
    "        closing_date_clean.append(y12)\n",
    "    \n",
    "    closing_date_date_time=[]\n",
    "    for thing in closing_date_clean:\n",
    "        try:\n",
    "            y2=datetime.strptime(thing,'%Y-%m-%d')\n",
    "            closing_date_date_time.append(y2)\n",
    "        except:\n",
    "            closing_date_date_time.append(thing)\n",
    "    return closing_date_date_time"
   ]
  },
  {
   "cell_type": "code",
   "execution_count": 219,
   "metadata": {},
   "outputs": [],
   "source": [
    "#getting the duration of the movie in theaters\n",
    "def subtract_closing_from_opening_date (release_date_date_time,closing_date_date_time):\n",
    "    i=0\n",
    "    subtracted_o_c=[]\n",
    "    for thing in range(len(closing_date_date_time)):\n",
    "        try:\n",
    "            subtracted=closing_date_date_time[i]-release_date_date_time[i]\n",
    "            subtracted_o_c.append(subtracted)\n",
    "            i+=1\n",
    "        except:\n",
    "            subtracted_o_c.append('-')\n",
    "            i+=1\n",
    "    days_in_theatre=[]\n",
    "    for thing in subtracted_o_c:\n",
    "        try:\n",
    "            days_in_theatre.append(int(str(thing).split()[0]))\n",
    "        except:\n",
    "            days_in_theatre.append('-')\n",
    "            \n",
    "    #changes dashes to NANs\n",
    "    days_in_theatre_with_none=[]\n",
    "    for item in days_in_theatre:\n",
    "        if type(item)==int:\n",
    "            days_in_theatre_with_none.append(item)\n",
    "        else:\n",
    "            days_in_theatre_with_none.append('NAN')\n",
    "            continue"
   ]
  },
  {
   "cell_type": "code",
   "execution_count": 220,
   "metadata": {},
   "outputs": [],
   "source": [
    "#making the tuple to put into \n",
    "def make_tuple_func (All_names, gross_numbers_with_none, opening_numbers_with_none):\n",
    "    i=0\n",
    "    All_data_mojo=[]\n",
    "    for thing in range(len(All_names)):\n",
    "        new_tuple = (All_names[i],opening_numbers_with_none[i],gross_numbers_with_none[i],days_in_theatre_with_none)\n",
    "        All_data_mojo.append(new_tuple)\n",
    "        i+=1\n",
    "    return All_data_mojo"
   ]
  },
  {
   "cell_type": "code",
   "execution_count": 221,
   "metadata": {},
   "outputs": [],
   "source": [
    "#inserts tuple into sql table\n",
    "def insert_func (cnx, cursor, All_data_mojo):\n",
    "    insert_stm = \"\"\"INSERT INTO mojo_data (title, days_in_theater, opening_revenue, gross_revenue, days_in_theatre_with_none) \n",
    "    VALUES (%s, %s, %s, %s)\"\"\"\n",
    "    cursor.executemany(insert_stm, All_data_mojo)\n",
    "    cnx.commit()"
   ]
  },
  {
   "cell_type": "code",
   "execution_count": 222,
   "metadata": {},
   "outputs": [],
   "source": [
    "def process (url):\n",
    "    soup = request_func(url)\n",
    "    All_names = movie_titles(soup)\n",
    "    gross_numbers_with_none = total_gross(soup)\n",
    "    opening_numbers_with_none = opening_weekend_gross(soup)\n",
    "    release_date_date_time = release_dates(soup)\n",
    "    closing_date_date_time = closing_dates(soup)\n",
    "    days_in_theatre_with_none = subtract_closing_from_opening_date(release_date_date_time,closing_date_date_time)\n",
    "    All_data_mojo=make_tuple_func(All_names, gross_numbers_with_none, opening_numbers_with_none)\n",
    "    insert_func (cnx, cursor, All_data_mojo)\n",
    "    return All_data_mojo\n",
    "\n",
    "    \n",
    "    "
   ]
  }
 ],
 "metadata": {
  "kernelspec": {
   "display_name": "Python 3",
   "language": "python",
   "name": "python3"
  },
  "language_info": {
   "codemirror_mode": {
    "name": "ipython",
    "version": 3
   },
   "file_extension": ".py",
   "mimetype": "text/x-python",
   "name": "python",
   "nbconvert_exporter": "python",
   "pygments_lexer": "ipython3",
   "version": "3.7.1"
  }
 },
 "nbformat": 4,
 "nbformat_minor": 2
}
